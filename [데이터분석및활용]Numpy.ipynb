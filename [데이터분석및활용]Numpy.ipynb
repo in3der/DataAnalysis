{
  "nbformat": 4,
  "nbformat_minor": 0,
  "metadata": {
    "colab": {
      "provenance": [],
      "authorship_tag": "ABX9TyM6fDTON0fwxcmcV0L0D0pb",
      "include_colab_link": true
    },
    "kernelspec": {
      "name": "python3",
      "display_name": "Python 3"
    },
    "language_info": {
      "name": "python"
    }
  },
  "cells": [
    {
      "cell_type": "markdown",
      "metadata": {
        "id": "view-in-github",
        "colab_type": "text"
      },
      "source": [
        "<a href=\"https://colab.research.google.com/github/in3der/DataAnalysis/blob/main/%5B%EB%8D%B0%EC%9D%B4%ED%84%B0%EB%B6%84%EC%84%9D%EB%B0%8F%ED%99%9C%EC%9A%A9%5DNumpy.ipynb\" target=\"_parent\"><img src=\"https://colab.research.google.com/assets/colab-badge.svg\" alt=\"Open In Colab\"/></a>"
      ]
    },
    {
      "cell_type": "markdown",
      "source": [
        "# List and Numpy Array  \n"
      ],
      "metadata": {
        "id": "LV6DGk_zmqhJ"
      }
    },
    {
      "cell_type": "code",
      "execution_count": null,
      "metadata": {
        "colab": {
          "base_uri": "https://localhost:8080/"
        },
        "id": "tMFudX5ZlStI",
        "outputId": "02472ffc-336d-4468-bd16-d0e63e30f802"
      },
      "outputs": [
        {
          "output_type": "stream",
          "name": "stdout",
          "text": [
            "[95.0, 90.0, 90.0, 70, 92, 88, 80]\n",
            "7\n",
            "<class 'list'>\n",
            "<class 'float'>\n",
            "<class 'type'>\n",
            "[95. 90. 90. 70. 92. 88. 80.]\n",
            "(7,)\n",
            "<class 'numpy.ndarray'>\n",
            "float64\n"
          ]
        }
      ],
      "source": [
        "import numpy as np\n",
        "\n",
        "lst = [95., 90., 90., 70, 92, 88, 80]\n",
        "print(lst)\n",
        "print(len(lst))\n",
        "print(type(lst))        # list의 타입. <class 'list'>\n",
        "print(type(lst[0]))     # 95.의 타입 <class 'float'>\n",
        "print(type(type(lst[4]))) # 92의 타입 <class 'int'>,     <class 'int'>의 타입 <class 'type'>\n",
        "\n",
        "arr = np.array(lst)   # list를 np.array로 지정.\n",
        "print(arr)\n",
        "print(arr.shape)      # 7열.\n",
        "print(type(arr))      # np.array의 타입 <class 'numpy.ndarray'>\n",
        "print(arr.dtype)      # array의 데이터타입은 float64"
      ]
    },
    {
      "cell_type": "markdown",
      "source": [
        "# Numpy Array vs. Matrix"
      ],
      "metadata": {
        "id": "WzDd_JbhoHkt"
      }
    },
    {
      "cell_type": "code",
      "source": [
        "lst = [[95, 90, 90], [70, 92, 88]]\n",
        "print(np.shape(lst))\n",
        "\n",
        "arr = np.array(lst, dtype = np.int32)     # np.array 사용, 데이터 타입을 정수로 지정\n",
        "print(arr)\n",
        "print(arr.shape)      # 2행 3열\n",
        "print(type(arr))\n",
        "print(arr.dtype)\n",
        "\n",
        "mat = np.matrix(lst, dtype=np.int32)    # np.matrix 사용, 데이터타입을 정수로 지정\n",
        "print(mat)\n",
        "print(type(mat))"
      ],
      "metadata": {
        "colab": {
          "base_uri": "https://localhost:8080/"
        },
        "id": "wtCezpfRoGBx",
        "outputId": "b542f7a7-b83e-469e-e2d7-d2f18187aec9"
      },
      "execution_count": null,
      "outputs": [
        {
          "output_type": "stream",
          "name": "stdout",
          "text": [
            "(2, 3)\n",
            "[[95 90 90]\n",
            " [70 92 88]]\n",
            "(2, 3)\n",
            "<class 'numpy.ndarray'>\n",
            "int32\n",
            "[[95 90 90]\n",
            " [70 92 88]]\n",
            "<class 'numpy.matrix'>\n"
          ]
        }
      ]
    },
    {
      "cell_type": "markdown",
      "source": [
        "# Reshape"
      ],
      "metadata": {
        "id": "rvDMtJMyocgH"
      }
    },
    {
      "cell_type": "code",
      "source": [
        "# reshape 방법 2가지가 있다\n",
        "# 방법 1\n",
        "arr1 = np.arange(16)      # 0 ~ 15까지 리스트를 만든다.\n",
        "arr2 = np.reshape(arr1, (4, 4))  # 4행 4열의 형식으로 reshape"
      ],
      "metadata": {
        "id": "uhhzHN5WobIA"
      },
      "execution_count": null,
      "outputs": []
    },
    {
      "cell_type": "code",
      "source": [
        "# 방법 2\n",
        "arr1 = np.arange(16)    # 0 ~ 15까지 리스트\n",
        "arr2 = arr1.reshape(4, 4)   # 4행 4열의 형식으로 reahspe\n",
        "print(arr1)\n",
        "print(arr2)"
      ],
      "metadata": {
        "colab": {
          "base_uri": "https://localhost:8080/"
        },
        "id": "dCpoU44-okdN",
        "outputId": "3a00ca4c-78f9-4571-92c6-4097a98477d6"
      },
      "execution_count": null,
      "outputs": [
        {
          "output_type": "stream",
          "name": "stdout",
          "text": [
            "[ 0  1  2  3  4  5  6  7  8  9 10 11 12 13 14 15]\n",
            "[[ 0  1  2  3]\n",
            " [ 4  5  6  7]\n",
            " [ 8  9 10 11]\n",
            " [12 13 14 15]]\n"
          ]
        }
      ]
    },
    {
      "cell_type": "code",
      "source": [
        "arr1 = np.arange(8)\n",
        "print(arr1)\n",
        "\n",
        "arr2 = np.reshape(arr1, (2, -1))    # 2행 고정, 열은 알아서\n",
        "print(arr2)\n",
        "\n",
        "arr3 = np.reshape(arr1, (-1, 4))   # 행은 알아서, 4열 고정\n",
        "print(arr3)\n",
        "\n",
        "arr4 = np.reshape(arr3, (-1)) # flatter. 1차원으로 만드는 경우\n",
        "print(arr4)\n",
        "\n",
        "# 에러생김\n",
        "# arr5 = np.reshape(arr1, (-1, 3))\n",
        "# print(arr5)"
      ],
      "metadata": {
        "colab": {
          "base_uri": "https://localhost:8080/"
        },
        "id": "IPzsQYy0oosE",
        "outputId": "be843bd8-0f4f-4e75-88ce-8c3b84a77daa"
      },
      "execution_count": null,
      "outputs": [
        {
          "output_type": "stream",
          "name": "stdout",
          "text": [
            "[0 1 2 3 4 5 6 7]\n",
            "[[0 1 2 3]\n",
            " [4 5 6 7]]\n",
            "[[0 1 2 3]\n",
            " [4 5 6 7]]\n",
            "[0 1 2 3 4 5 6 7]\n"
          ]
        }
      ]
    },
    {
      "cell_type": "markdown",
      "source": [
        "# Indexing"
      ],
      "metadata": {
        "id": "5hel9SEBpsLQ"
      }
    },
    {
      "cell_type": "code",
      "source": [
        "arr1 = np.arange(12)\n",
        "arr2 = arr1.reshape(2, -1)      # 0~11을 2행 n열로 reshape\n",
        "print(arr1) # [ 0  1  2  3  4  5  6  7  8  9 10 11]\n",
        "print(arr2)  # [[ 0  1  2  3  4  5]\n",
        "              #[ 6  7  8  9 10 11]]\n",
        "\n",
        "print(arr1[0])  # 0\n",
        "print(arr2[0])  # [0 1 2 3 4 5]\n",
        "\n",
        "print(arr2[0, 0])  # 0"
      ],
      "metadata": {
        "colab": {
          "base_uri": "https://localhost:8080/"
        },
        "id": "0cNwNF0bpfab",
        "outputId": "9fd8a21c-6ff1-4cb5-9e2b-bb2b97bdae3c"
      },
      "execution_count": null,
      "outputs": [
        {
          "output_type": "stream",
          "name": "stdout",
          "text": [
            "[ 0  1  2  3  4  5  6  7  8  9 10 11]\n",
            "[[ 0  1  2  3  4  5]\n",
            " [ 6  7  8  9 10 11]]\n",
            "0\n",
            "[0 1 2 3 4 5]\n",
            "0\n"
          ]
        }
      ]
    },
    {
      "cell_type": "code",
      "source": [
        "arr1 = np.arange(12)    #  [ 0  1  2  3  4  5  6  7  8  9 10 11]\n",
        "arr2 = arr1.reshape(2, -1)\n",
        "#  [[ 0  1  2  3  4  5]\n",
        "#   [ 6  7  8  9 10 11]]\n",
        "arr3 = arr1[2:10]   # [2 3 4 5 6 7 8 9]\n",
        "arr4 = arr2.copy()   # 그냥 arrr2 복사뜨는..\n",
        "\n",
        "arr2[0, 0] = 4  # arr1 제일 첫 번째 원소에 4로 바꿔넣기\n",
        "\n",
        "print(arr1)\n",
        "print(arr2)\n",
        "print(arr3)\n",
        "print(arr4)"
      ],
      "metadata": {
        "colab": {
          "base_uri": "https://localhost:8080/"
        },
        "id": "m0QMCdqxp3TC",
        "outputId": "09df5c13-2f22-4b91-86b5-4b7657b97407"
      },
      "execution_count": null,
      "outputs": [
        {
          "output_type": "stream",
          "name": "stdout",
          "text": [
            "[ 4  1  2  3  4  5  6  7  8  9 10 11]\n",
            "[[ 4  1  2  3  4  5]\n",
            " [ 6  7  8  9 10 11]]\n",
            "[2 3 4 5 6 7 8 9]\n",
            "[[ 0  1  2  3  4  5]\n",
            " [ 6  7  8  9 10 11]]\n"
          ]
        }
      ]
    },
    {
      "cell_type": "code",
      "source": [
        "arr1 = np.arange(16)\n",
        "arr2 = arr1.reshape(4, -1)    # 4행 n열 - 4행 4열\n",
        "print(arr2)\n",
        "\n",
        "print(arr2[1, 3])\n",
        "print(arr2[0, 1])\n",
        "print(arr2[2, 2])\n",
        "\n",
        "print(arr2[[1, 0, 2], [3, 1, 2]])   ##!!!! 위와 똑같이 원소 뽑는 것임. 근데 출력은 리스트로"
      ],
      "metadata": {
        "colab": {
          "base_uri": "https://localhost:8080/"
        },
        "id": "izcBcPprqNLU",
        "outputId": "30fe6683-01b3-4e7e-eb6d-d960628ba39b"
      },
      "execution_count": null,
      "outputs": [
        {
          "output_type": "stream",
          "name": "stdout",
          "text": [
            "[[ 0  1  2  3]\n",
            " [ 4  5  6  7]\n",
            " [ 8  9 10 11]\n",
            " [12 13 14 15]]\n",
            "7\n",
            "1\n",
            "10\n",
            "[ 7  1 10]\n"
          ]
        }
      ]
    },
    {
      "cell_type": "markdown",
      "source": [
        "# Slicing"
      ],
      "metadata": {
        "id": "PTjS-2hIqoL7"
      }
    },
    {
      "cell_type": "code",
      "source": [
        "arr = np.arange(16).reshape(4, 4)\n",
        "\n",
        "print(arr)\n",
        "print(arr[1:3, 1:3])    # 2번째 ~ 3번째 행 & 2번째 ~ 3번째 열\n",
        "print(arr[:, :])\n",
        "print(arr[1:, :-1])   # 2번째 행 ~ 끝 & 맨 뒤의 열 뺀다"
      ],
      "metadata": {
        "colab": {
          "base_uri": "https://localhost:8080/"
        },
        "id": "f-C6M0wfqb9e",
        "outputId": "7e9dc5a0-9b62-4037-824e-3386360f9786"
      },
      "execution_count": null,
      "outputs": [
        {
          "output_type": "stream",
          "name": "stdout",
          "text": [
            "[[ 0  1  2  3]\n",
            " [ 4  5  6  7]\n",
            " [ 8  9 10 11]\n",
            " [12 13 14 15]]\n",
            "[[ 5  6]\n",
            " [ 9 10]]\n",
            "[[ 0  1  2  3]\n",
            " [ 4  5  6  7]\n",
            " [ 8  9 10 11]\n",
            " [12 13 14 15]]\n",
            "[[ 4  5  6]\n",
            " [ 8  9 10]\n",
            " [12 13 14]]\n"
          ]
        }
      ]
    },
    {
      "cell_type": "markdown",
      "source": [
        "# Exercise"
      ],
      "metadata": {
        "id": "epd8Hvbkqz4_"
      }
    },
    {
      "cell_type": "code",
      "source": [
        "import numpy as np\n",
        "A = np.array([[400, 500, 600], [500, 300, 500], [700, 400, 700]])\n",
        "B = np.array([[500, 700, 700], [300, 400, 600], [900, 200, 900]])\n",
        "print(A)\n",
        "print(B)"
      ],
      "metadata": {
        "colab": {
          "base_uri": "https://localhost:8080/"
        },
        "id": "WqaKjo8UqxEr",
        "outputId": "8434abcd-7fdb-4119-8a5b-bc11a05d1fd9"
      },
      "execution_count": null,
      "outputs": [
        {
          "output_type": "stream",
          "name": "stdout",
          "text": [
            "[[400 500 600]\n",
            " [500 300 500]\n",
            " [700 400 700]]\n",
            "[[500 700 700]\n",
            " [300 400 600]\n",
            " [900 200 900]]\n"
          ]
        }
      ]
    },
    {
      "cell_type": "markdown",
      "source": [
        "## Array Indexing"
      ],
      "metadata": {
        "id": "Zyu4--pYrNnU"
      }
    },
    {
      "cell_type": "code",
      "source": [
        "# A 행렬에서 1행 2열을 출력하라.\n",
        "print(A[0, 1])\n",
        "# A 행렬에서 1-2행을 출력하라.\n",
        "print(A[0:2, :])\n",
        "# A 행렬에서 마지막 열을 빼고 출력하라.\n",
        "print(A[:, :-1])"
      ],
      "metadata": {
        "colab": {
          "base_uri": "https://localhost:8080/"
        },
        "id": "2gXyNrserGbL",
        "outputId": "45b7e741-764b-4bd4-c591-d8cc4ee70c52"
      },
      "execution_count": null,
      "outputs": [
        {
          "output_type": "stream",
          "name": "stdout",
          "text": [
            "500\n",
            "[[400 500 600]\n",
            " [500 300 500]]\n",
            "[[400 500]\n",
            " [500 300]\n",
            " [700 400]]\n"
          ]
        }
      ]
    },
    {
      "cell_type": "code",
      "source": [
        "# A의 2열과 B의 1열을 더하라\n",
        "print(A[:, 1] + B[:, 0])\n",
        "\n",
        "# A, B 행렬에서 두 번째 행을 빼고 C, D 행렬을 만들어라\n",
        "C = A[(0, 2), :]\n",
        "D = B[(0, 2), :]\n",
        "print(C)\n",
        "print(D)"
      ],
      "metadata": {
        "colab": {
          "base_uri": "https://localhost:8080/"
        },
        "id": "O-iP9FrnrVxL",
        "outputId": "317e2ea1-d321-462c-f166-95fba0056191"
      },
      "execution_count": null,
      "outputs": [
        {
          "output_type": "stream",
          "name": "stdout",
          "text": [
            "[1000  600 1300]\n",
            "[[400 500 600]\n",
            " [700 400 700]]\n",
            "[[500 700 700]\n",
            " [900 200 900]]\n"
          ]
        }
      ]
    },
    {
      "cell_type": "markdown",
      "source": [
        "## Max, Min, Mean"
      ],
      "metadata": {
        "id": "W7NakYSIsG2B"
      }
    },
    {
      "cell_type": "code",
      "source": [
        "# max : 배열에서 가장 큰 값을 고름\n",
        "print(A.max(), B.max())\n",
        "# np.maximum : 둘 중에서 가장 큰 값을 고름\n",
        "print(np.maximum(A.max(), B.max()))\n",
        "\n",
        "print(A.min(), B.min())\n",
        "print(np.minimum(A.min(), B.min()))\n",
        "\n",
        "print(A.min(), B.mean())\n",
        "print((A.mean() + B.mean()) / 2)"
      ],
      "metadata": {
        "colab": {
          "base_uri": "https://localhost:8080/"
        },
        "id": "y9jSxJoYsEqe",
        "outputId": "4a1a10ce-3c7b-4e55-9667-00ad0450491e"
      },
      "execution_count": null,
      "outputs": [
        {
          "output_type": "stream",
          "name": "stdout",
          "text": [
            "700 900\n",
            "900\n",
            "300 200\n",
            "200\n",
            "300 577.7777777777778\n",
            "544.4444444444445\n"
          ]
        }
      ]
    },
    {
      "cell_type": "markdown",
      "source": [
        "## Max, Min, Means along Axis"
      ],
      "metadata": {
        "id": "o_tMI6i0srtG"
      }
    },
    {
      "cell_type": "code",
      "source": [
        "print(A.max(axis=0)) # 각 행에서 가장 큰 값들을 골라옴\n",
        "print(A.max(axis = 1)) # 각 열에서 가장 큰 값들을 골라옴"
      ],
      "metadata": {
        "colab": {
          "base_uri": "https://localhost:8080/"
        },
        "id": "QGnENvBqsZUa",
        "outputId": "76afae84-0b7b-4d50-a656-7c9303c99010"
      },
      "execution_count": null,
      "outputs": [
        {
          "output_type": "stream",
          "name": "stdout",
          "text": [
            "[700 500 700]\n",
            "[600 500 700]\n"
          ]
        }
      ]
    },
    {
      "cell_type": "markdown",
      "source": [
        "## Argmax, Argmin"
      ],
      "metadata": {
        "id": "qSDndZBMtT4l"
      }
    },
    {
      "cell_type": "code",
      "source": [
        "print(B - A)\n",
        "print(np.abs(A-B)) # abs : 절댓값취함"
      ],
      "metadata": {
        "colab": {
          "base_uri": "https://localhost:8080/"
        },
        "id": "4Ju0Ffcis5wi",
        "outputId": "1b4dff77-fd6e-4732-a676-a2e5fd615042"
      },
      "execution_count": null,
      "outputs": [
        {
          "output_type": "stream",
          "name": "stdout",
          "text": [
            "[[ 100  200  100]\n",
            " [-200  100  100]\n",
            " [ 200 -200  200]]\n",
            "[[100 200 100]\n",
            " [200 100 100]\n",
            " [200 200 200]]\n"
          ]
        }
      ]
    },
    {
      "cell_type": "code",
      "source": [
        "# argmax, argmin : 최소값, 최대값, 혹은 조건에 해당하는 색인(index) 값을 찾기\n",
        "print(np.argmax(np.abs(A-B)))\n",
        "print(np.argmin(np.abs(A-B)))"
      ],
      "metadata": {
        "colab": {
          "base_uri": "https://localhost:8080/"
        },
        "id": "UxQASXqztY9K",
        "outputId": "db5a8575-b9a5-447f-d6e8-78a7201bb311"
      },
      "execution_count": null,
      "outputs": [
        {
          "output_type": "stream",
          "name": "stdout",
          "text": [
            "1\n",
            "0\n"
          ]
        }
      ]
    },
    {
      "cell_type": "markdown",
      "source": [
        "# Expend Dimension"
      ],
      "metadata": {
        "id": "gz7Xp_Y6t54l"
      }
    },
    {
      "cell_type": "code",
      "source": [
        "import numpy as np\n",
        "A = np.random.rand(2, 3, 4)\n",
        "print(A)\n",
        "\n",
        "print(A.shape)\n",
        "print(A[:, np.newaxis, :, :].shape)   # newaxis : 새로운 차원을 끼움\n",
        "print(A[:, np.newaxis, :, np.newaxis, :].shape)\n",
        "print(A[..., np.newaxis].shape) ## ...으로 기존을 표현하고 뒤에  newaxis를 끼울 수 있다."
      ],
      "metadata": {
        "colab": {
          "base_uri": "https://localhost:8080/"
        },
        "id": "ANq__TuQt4Uu",
        "outputId": "e6efe0ba-db2c-4df6-ad39-16df6be99a71"
      },
      "execution_count": null,
      "outputs": [
        {
          "output_type": "stream",
          "name": "stdout",
          "text": [
            "[[[0.69402111 0.09270565 0.03076127 0.85758852]\n",
            "  [0.60901533 0.93697019 0.78239859 0.40538063]\n",
            "  [0.34288547 0.28559057 0.83200202 0.52975287]]\n",
            "\n",
            " [[0.82512735 0.43734502 0.09811109 0.7575477 ]\n",
            "  [0.87998869 0.89663512 0.09456482 0.23165138]\n",
            "  [0.21245149 0.78786812 0.7752833  0.69301741]]]\n",
            "(2, 3, 4)\n",
            "(2, 1, 3, 4)\n",
            "(2, 1, 3, 1, 4)\n",
            "(2, 3, 4, 1)\n"
          ]
        }
      ]
    },
    {
      "cell_type": "markdown",
      "source": [
        "# Broadcasting"
      ],
      "metadata": {
        "id": "Uc-hVtuuuZRp"
      }
    },
    {
      "cell_type": "code",
      "source": [
        "a = np.array([0.0, 10.0, 20.0, 30.0]) # (4, )\n",
        "b = np.array([1.0, 2.0, 3.0]) # (3, )\n",
        "print(a[:, np.newaxis] + b)   # (4, )에 broadcasting => (4, 3)\n",
        "print(a + b[:, np.newaxis])   # (3, )에 broadcasting => (3, 4)"
      ],
      "metadata": {
        "colab": {
          "base_uri": "https://localhost:8080/"
        },
        "id": "eWnD3_z8ugIs",
        "outputId": "2de74378-f12b-4d05-d24a-c8af72c12c97"
      },
      "execution_count": null,
      "outputs": [
        {
          "output_type": "stream",
          "name": "stdout",
          "text": [
            "[[ 1.  2.  3.]\n",
            " [11. 12. 13.]\n",
            " [21. 22. 23.]\n",
            " [31. 32. 33.]]\n",
            "[[ 1. 11. 21. 31.]\n",
            " [ 2. 12. 22. 32.]\n",
            " [ 3. 13. 23. 33.]]\n"
          ]
        }
      ]
    },
    {
      "cell_type": "markdown",
      "source": [
        "# repeat  "
      ],
      "metadata": {
        "id": "gwFTrOqtvZ8C"
      }
    },
    {
      "cell_type": "code",
      "source": [
        "  X = np.array([1, 2, 3])\n",
        "  Y = np.array([[1, 2],\n",
        "                [3, 4]])\n",
        "\n",
        "  print(np.repeat(X, 3))    # 같은 원소를 바로 3번 반복한다.\n",
        "  print(np.repeat(Y, 3))  # 걍 냅다 flatten하고 3번씩 반복\n",
        "\n",
        "  print(np.repeat(Y, 3, axis=0))  # 행 기준 복사. 여기서 각 원소는 각 row. [1, 2] [3, 4]\n",
        "  print(np.repeat(Y, 3, axis=1))  # 열 기준 복사. 여기서 각 원소는 각 column [1, 3], [2, 4]"
      ],
      "metadata": {
        "colab": {
          "base_uri": "https://localhost:8080/"
        },
        "id": "krByZqtFunH5",
        "outputId": "dbbc198b-2412-4cd4-c4e8-3e7993129e1e"
      },
      "execution_count": null,
      "outputs": [
        {
          "output_type": "stream",
          "name": "stdout",
          "text": [
            "[1 1 1 2 2 2 3 3 3]\n",
            "[1 1 1 2 2 2 3 3 3 4 4 4]\n",
            "[[1 2]\n",
            " [1 2]\n",
            " [1 2]\n",
            " [3 4]\n",
            " [3 4]\n",
            " [3 4]]\n",
            "[[1 1 1 2 2 2]\n",
            " [3 3 3 4 4 4]]\n"
          ]
        }
      ]
    },
    {
      "cell_type": "markdown",
      "source": [
        "# repeat vs. tile"
      ],
      "metadata": {
        "id": "z_H4A5nCvuDa"
      }
    },
    {
      "cell_type": "code",
      "source": [
        "X = np.array([1, 2, 3])\n",
        "Y = np.array([[1, 2],\n",
        "              [3, 4]])\n",
        "\n",
        "print(np.repeat(X, 3))\n",
        "print(np.tile(X, 3))  # X라는 배열 하나[1 2 3]를 반복\n",
        "\n",
        "print(np.tile(Y, [1, 1]))\n",
        "print(np.tile(Y, [2, 1]))   # 행렬을 axis=0 row 방향으로 2번 반복, axis=1 column 방향으로 1번 반복\n",
        "print(np.tile(Y, [1, 3]))\n",
        "print(np.tile(Y, [2, 4]))"
      ],
      "metadata": {
        "colab": {
          "base_uri": "https://localhost:8080/"
        },
        "id": "L25lrGL9vggA",
        "outputId": "bc1835c5-ca4d-4d02-9cea-9f8713b7b687"
      },
      "execution_count": null,
      "outputs": [
        {
          "output_type": "stream",
          "name": "stdout",
          "text": [
            "[1 1 1 2 2 2 3 3 3]\n",
            "[1 2 3 1 2 3 1 2 3]\n",
            "[[1 2]\n",
            " [3 4]]\n",
            "[[1 2]\n",
            " [3 4]\n",
            " [1 2]\n",
            " [3 4]]\n",
            "[[1 2 1 2 1 2]\n",
            " [3 4 3 4 3 4]]\n",
            "[[1 2 1 2 1 2 1 2]\n",
            " [3 4 3 4 3 4 3 4]\n",
            " [1 2 1 2 1 2 1 2]\n",
            " [3 4 3 4 3 4 3 4]]\n"
          ]
        }
      ]
    },
    {
      "cell_type": "markdown",
      "source": [
        "# Stack"
      ],
      "metadata": {
        "id": "SLb24EeXwIQX"
      }
    },
    {
      "cell_type": "code",
      "source": [
        "a1 = np.random.rand(5, 100)\n",
        "a2 = np.random.rand(5, 100)\n",
        "a3 = np.random.rand(5, 100)\n",
        "\n",
        "# stack : 배열들의 shape이 전부 동일해야 함\n",
        "\n",
        "a_stack = np.stack([a1, a2, a3])\n",
        "a_stack_0 = np.stack([a1, a2, a3], axis=0)\n",
        "\n",
        "a_stack_1 = np.stack([a1, a2, a3], axis=1)  # 배열을 세로방향으로 쌓음\n",
        "\n",
        "a_stack_2 = np.stack([a1, a2, a3], axis=2)  # 배열을 가로방향으로 쌓음\n",
        "a_stack_m = np.stack([a1, a2, a3], axis=-1)   # axis=2와 동일한 효과.\n",
        "\n",
        "print(a_stack.shape)\n",
        "print(a_stack_0.shape)\n",
        "print(a_stack_1.shape)\n",
        "print(a_stack_2.shape)\n",
        "print(a_stack_m.shape)"
      ],
      "metadata": {
        "colab": {
          "base_uri": "https://localhost:8080/"
        },
        "id": "BhuMRw1_v_iw",
        "outputId": "4dea2bd4-690d-4073-e788-4925ebcb9607"
      },
      "execution_count": null,
      "outputs": [
        {
          "output_type": "stream",
          "name": "stdout",
          "text": [
            "(3, 5, 100)\n",
            "(3, 5, 100)\n",
            "(5, 3, 100)\n",
            "(5, 100, 3)\n",
            "(5, 100, 3)\n"
          ]
        }
      ]
    },
    {
      "cell_type": "markdown",
      "source": [
        "# concatenate"
      ],
      "metadata": {
        "id": "WZOq1gPFwsxq"
      }
    },
    {
      "cell_type": "code",
      "source": [
        "v1 = np.random.rand(10, 4, 3)\n",
        "v2 = np.random.rand(20, 4, 3)\n",
        "v3 = np.random.rand(30, 4, 3)\n",
        "\n",
        "h1 = np.random.rand(5, 10, 3)\n",
        "h2 = np.random.rand(5, 20, 3)\n",
        "h3 = np.random.rand(5, 30, 3)\n",
        "\n",
        "# 나머지 차원이 모두 동일하면 결합 가능\n",
        "\n",
        "vstack0 = np.vstack([v1, v2, v3])\n",
        "concat0 = np.concatenate([v1, v2, v3], axis=0)    # 수직으로 쌓기\n",
        "\n",
        "hstack1 = np.hstack([h1, h2, h3])\n",
        "concat1 = np.concatenate([h1, h2, h3], axis=1)    # 수평으로 결합\n",
        "\n",
        "print(vstack0.shape)\n",
        "print(concat0.shape)\n",
        "print(hstack1.shape)\n",
        "print(concat1.shape)"
      ],
      "metadata": {
        "colab": {
          "base_uri": "https://localhost:8080/"
        },
        "id": "aOWvNPDhwrLc",
        "outputId": "715a972f-0ce3-4340-b719-ec25c2cbfb95"
      },
      "execution_count": null,
      "outputs": [
        {
          "output_type": "stream",
          "name": "stdout",
          "text": [
            "(60, 4, 3)\n",
            "(60, 4, 3)\n",
            "(5, 60, 3)\n",
            "(5, 60, 3)\n"
          ]
        }
      ]
    },
    {
      "cell_type": "code",
      "source": [],
      "metadata": {
        "id": "SK3dIEXnxQoS"
      },
      "execution_count": null,
      "outputs": []
    }
  ]
}