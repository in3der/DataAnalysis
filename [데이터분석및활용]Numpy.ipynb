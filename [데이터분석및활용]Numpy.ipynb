{
  "nbformat": 4,
  "nbformat_minor": 0,
  "metadata": {
    "colab": {
      "provenance": [],
      "authorship_tag": "ABX9TyO5owT6dG8QI0+KZT7AUBVj",
      "include_colab_link": true
    },
    "kernelspec": {
      "name": "python3",
      "display_name": "Python 3"
    },
    "language_info": {
      "name": "python"
    }
  },
  "cells": [
    {
      "cell_type": "markdown",
      "metadata": {
        "id": "view-in-github",
        "colab_type": "text"
      },
      "source": [
        "<a href=\"https://colab.research.google.com/github/in3der/DataAnalysis/blob/main/%5B%EB%8D%B0%EC%9D%B4%ED%84%B0%EB%B6%84%EC%84%9D%EB%B0%8F%ED%99%9C%EC%9A%A9%5DNumpy.ipynb\" target=\"_parent\"><img src=\"https://colab.research.google.com/assets/colab-badge.svg\" alt=\"Open In Colab\"/></a>"
      ]
    },
    {
      "cell_type": "markdown",
      "source": [
        "# List and Numpy Array\n"
      ],
      "metadata": {
        "id": "LV6DGk_zmqhJ"
      }
    },
    {
      "cell_type": "code",
      "execution_count": null,
      "metadata": {
        "colab": {
          "base_uri": "https://localhost:8080/"
        },
        "id": "tMFudX5ZlStI",
        "outputId": "9d552aca-c848-4876-c08a-1980b7db9600"
      },
      "outputs": [
        {
          "output_type": "stream",
          "name": "stdout",
          "text": [
            "[95.0, 90.0, 90.0, 70, 92, 88, 80]\n",
            "7\n",
            "<class 'list'>\n",
            "<class 'float'>\n",
            "<class 'type'>\n",
            "[95. 90. 90. 70. 92. 88. 80.]\n",
            "(7,)\n",
            "<class 'numpy.ndarray'>\n",
            "float64\n"
          ]
        }
      ],
      "source": [
        "import numpy as np\n",
        "\n",
        "lst = [95., 90., 90., 70, 92, 88, 80]\n",
        "print(lst)\n",
        "print(len(lst))\n",
        "print(type(lst))        # list의 타입. <class 'list'>\n",
        "print(type(lst[0]))     # 95.의 타입 <class 'float'>\n",
        "print(type(type(lst[4]))) # 92의 타입 <class 'int'>,     <class 'int'>의 타입 <class 'type'>\n",
        "\n",
        "arr = np.array(lst)   # list를 np.array로 지정.\n",
        "print(arr)\n",
        "print(arr.shape)      # 7열.\n",
        "print(type(arr))      # np.array의 타입 <class 'numpy.ndarray'>\n",
        "print(arr.dtype)      # array의 데이터타입은 float64"
      ]
    },
    {
      "cell_type": "markdown",
      "source": [
        "# Numpy Array vs. Matrix"
      ],
      "metadata": {
        "id": "WzDd_JbhoHkt"
      }
    },
    {
      "cell_type": "code",
      "source": [
        "lst = [[95, 90, 90], [70, 92, 88]]\n",
        "print(np.shape(lst))\n",
        "\n",
        "arr = np.array(lst, dtype = np.int32)     # np.array 사용, 데이터 타입을 정수로 지정\n",
        "print(arr)\n",
        "print(arr.shape)      # 2행 3열\n",
        "print(type(arr))\n",
        "print(arr.dtype)\n",
        "\n",
        "mat = np.matrix(lst, dtype=np.int32)    # np.matrix 사용, 데이터타입을 정수로 지정\n",
        "print(mat)\n",
        "print(type(mat))"
      ],
      "metadata": {
        "colab": {
          "base_uri": "https://localhost:8080/"
        },
        "id": "wtCezpfRoGBx",
        "outputId": "8f901335-5a6f-4e5e-f7a9-6066225b93c4"
      },
      "execution_count": null,
      "outputs": [
        {
          "output_type": "stream",
          "name": "stdout",
          "text": [
            "(2, 3)\n",
            "[[95 90 90]\n",
            " [70 92 88]]\n",
            "(2, 3)\n",
            "<class 'numpy.ndarray'>\n",
            "int32\n",
            "[[95 90 90]\n",
            " [70 92 88]]\n",
            "<class 'numpy.matrix'>\n"
          ]
        }
      ]
    },
    {
      "cell_type": "markdown",
      "source": [
        "# Reshape"
      ],
      "metadata": {
        "id": "rvDMtJMyocgH"
      }
    },
    {
      "cell_type": "code",
      "source": [
        "# reshape 방법 2가지가 있다\n",
        "# 방법 1\n",
        "arr1 = np.arange(16)      # 0 ~ 15까지 리스트를 만든다.\n",
        "arr2 = np.reshape(arr1, (4, 4))  # 4행 4열의 형식으로 reshape"
      ],
      "metadata": {
        "id": "uhhzHN5WobIA"
      },
      "execution_count": null,
      "outputs": []
    },
    {
      "cell_type": "code",
      "source": [
        "# 방법 2\n",
        "arr1 = np.arange(16)    # 0 ~ 15까지 리스트\n",
        "arr2 = arr1.reshape(4, 4)   # 4행 4열의 형식으로 reahspe\n",
        "print(arr1)\n",
        "print(arr2)"
      ],
      "metadata": {
        "colab": {
          "base_uri": "https://localhost:8080/"
        },
        "id": "dCpoU44-okdN",
        "outputId": "82b43336-15ab-4b03-e6d1-4839afe4f9a9"
      },
      "execution_count": null,
      "outputs": [
        {
          "output_type": "stream",
          "name": "stdout",
          "text": [
            "[ 0  1  2  3  4  5  6  7  8  9 10 11 12 13 14 15]\n",
            "[[ 0  1  2  3]\n",
            " [ 4  5  6  7]\n",
            " [ 8  9 10 11]\n",
            " [12 13 14 15]]\n"
          ]
        }
      ]
    },
    {
      "cell_type": "code",
      "source": [
        "arr1 = np.arange(8)\n",
        "print(arr1)\n",
        "\n",
        "arr2 = np.reshape(arr1, (2, -1))    # 2행 고정, 열은 알아서\n",
        "print(arr2)\n",
        "\n",
        "arr3 = np.reshape(arr1, (-1, 4))   # 행은 알아서, 4열 고정\n",
        "print(arr3)\n",
        "\n",
        "arr4 = np.reshape(arr3, (-1)) # flatter. 1차원으로 만드는 경우\n",
        "print(arr4)\n",
        "\n",
        "# 에러생김\n",
        "# arr5 = np.reshape(arr1, (-1, 3))\n",
        "# print(arr5)"
      ],
      "metadata": {
        "colab": {
          "base_uri": "https://localhost:8080/"
        },
        "id": "IPzsQYy0oosE",
        "outputId": "baaf3e4d-0890-44c6-ac03-bd4de9608b8b"
      },
      "execution_count": null,
      "outputs": [
        {
          "output_type": "stream",
          "name": "stdout",
          "text": [
            "[0 1 2 3 4 5 6 7]\n",
            "[[0 1 2 3]\n",
            " [4 5 6 7]]\n",
            "[[0 1 2 3]\n",
            " [4 5 6 7]]\n",
            "[0 1 2 3 4 5 6 7]\n"
          ]
        }
      ]
    },
    {
      "cell_type": "markdown",
      "source": [
        "# Indexing"
      ],
      "metadata": {
        "id": "5hel9SEBpsLQ"
      }
    },
    {
      "cell_type": "code",
      "source": [
        "arr1 = np.arange(12)\n",
        "arr2 = arr1.reshape(2, -1)      # 0~11을 2행 n열로 reshape\n",
        "print(arr1) # [ 0  1  2  3  4  5  6  7  8  9 10 11]\n",
        "print(arr2)  # [[ 0  1  2  3  4  5]\n",
        "              #[ 6  7  8  9 10 11]]\n",
        "\n",
        "print(arr1[0])  # 0\n",
        "print(arr2[0])  # [0 1 2 3 4 5]\n",
        "\n",
        "print(arr2[0, 0])  # 0"
      ],
      "metadata": {
        "colab": {
          "base_uri": "https://localhost:8080/"
        },
        "id": "0cNwNF0bpfab",
        "outputId": "89330d8c-2336-4634-cc36-d7916c9f1b6d"
      },
      "execution_count": null,
      "outputs": [
        {
          "output_type": "stream",
          "name": "stdout",
          "text": [
            "[ 0  1  2  3  4  5  6  7  8  9 10 11]\n",
            "[[ 0  1  2  3  4  5]\n",
            " [ 6  7  8  9 10 11]]\n",
            "0\n",
            "[0 1 2 3 4 5]\n",
            "0\n"
          ]
        }
      ]
    },
    {
      "cell_type": "code",
      "source": [
        "arr1 = np.arange(12)    #  [ 0  1  2  3  4  5  6  7  8  9 10 11]\n",
        "arr2 = arr1.reshape(2, -1)\n",
        "#  [[ 0  1  2  3  4  5]\n",
        "#   [ 6  7  8  9 10 11]]\n",
        "arr3 = arr1[2:10]   # [2 3 4 5 6 7 8 9]\n",
        "arr4 = arr2.copy()   # 그냥 arrr2 복사뜨는..\n",
        "\n",
        "arr2[0, 0] = 4  # arr1 제일 첫 번째 원소에 4로 바꿔넣기\n",
        "\n",
        "print(arr1)\n",
        "print(arr2)\n",
        "print(arr3)\n",
        "print(arr4)"
      ],
      "metadata": {
        "colab": {
          "base_uri": "https://localhost:8080/"
        },
        "id": "m0QMCdqxp3TC",
        "outputId": "0b01db2c-597b-44b4-facc-0c83dec42c7b"
      },
      "execution_count": null,
      "outputs": [
        {
          "output_type": "stream",
          "name": "stdout",
          "text": [
            "[ 4  1  2  3  4  5  6  7  8  9 10 11]\n",
            "[[ 4  1  2  3  4  5]\n",
            " [ 6  7  8  9 10 11]]\n",
            "[2 3 4 5 6 7 8 9]\n",
            "[[ 0  1  2  3  4  5]\n",
            " [ 6  7  8  9 10 11]]\n"
          ]
        }
      ]
    },
    {
      "cell_type": "code",
      "source": [
        "arr1 = np.arange(16)\n",
        "arr2 = arr1.reshape(4, -1)    # 4행 n열 - 4행 4열\n",
        "print(arr2)\n",
        "\n",
        "print(arr2[1, 3])\n",
        "print(arr2[0, 1])\n",
        "print(arr2[2, 2])\n",
        "\n",
        "print(arr2[[1, 0, 2], [3, 1, 2]])   ##!!!! 위와 똑같이 원소 뽑는 것임. 근데 출력은 리스트로"
      ],
      "metadata": {
        "colab": {
          "base_uri": "https://localhost:8080/"
        },
        "id": "izcBcPprqNLU",
        "outputId": "c8c5c007-4fc6-4bda-ff60-27cfd94b163b"
      },
      "execution_count": null,
      "outputs": [
        {
          "output_type": "stream",
          "name": "stdout",
          "text": [
            "[[ 0  1  2  3]\n",
            " [ 4  5  6  7]\n",
            " [ 8  9 10 11]\n",
            " [12 13 14 15]]\n",
            "7\n",
            "1\n",
            "10\n",
            "[ 7  1 10]\n"
          ]
        }
      ]
    },
    {
      "cell_type": "markdown",
      "source": [
        "# Slicing"
      ],
      "metadata": {
        "id": "PTjS-2hIqoL7"
      }
    },
    {
      "cell_type": "code",
      "source": [
        "arr = np.arange(16).reshape(4, 4)\n",
        "\n",
        "print(arr)\n",
        "print(arr[1:3, 1:3])    # 2번째 ~ 3번째 행 & 2번째 ~ 3번째 열\n",
        "print(arr[:, :])\n",
        "print(arr[1:, :-1])   # 2번째 행 ~ 끝 & 맨 뒤의 열 뺀다"
      ],
      "metadata": {
        "colab": {
          "base_uri": "https://localhost:8080/"
        },
        "id": "f-C6M0wfqb9e",
        "outputId": "c0a021ec-7b92-4889-8005-f1fc7f403b0e"
      },
      "execution_count": null,
      "outputs": [
        {
          "output_type": "stream",
          "name": "stdout",
          "text": [
            "[[ 0  1  2  3]\n",
            " [ 4  5  6  7]\n",
            " [ 8  9 10 11]\n",
            " [12 13 14 15]]\n",
            "[[ 5  6]\n",
            " [ 9 10]]\n",
            "[[ 0  1  2  3]\n",
            " [ 4  5  6  7]\n",
            " [ 8  9 10 11]\n",
            " [12 13 14 15]]\n",
            "[[ 4  5  6]\n",
            " [ 8  9 10]\n",
            " [12 13 14]]\n"
          ]
        }
      ]
    },
    {
      "cell_type": "markdown",
      "source": [
        "# Exercise"
      ],
      "metadata": {
        "id": "epd8Hvbkqz4_"
      }
    },
    {
      "cell_type": "code",
      "source": [
        "import numpy as np\n",
        "A = np.array([[400, 500, 600], [500, 300, 500], [700, 400, 700]])\n",
        "B = np.array([[500, 700, 700], [300, 400, 600], [900, 200, 900]])\n",
        "print(A)\n",
        "print(B)"
      ],
      "metadata": {
        "colab": {
          "base_uri": "https://localhost:8080/"
        },
        "id": "WqaKjo8UqxEr",
        "outputId": "fbc546a8-3e2f-4d7d-9b2a-d5dadb8c3394"
      },
      "execution_count": null,
      "outputs": [
        {
          "output_type": "stream",
          "name": "stdout",
          "text": [
            "[[400 500 600]\n",
            " [500 300 500]\n",
            " [700 400 700]]\n",
            "[[500 700 700]\n",
            " [300 400 600]\n",
            " [900 200 900]]\n"
          ]
        }
      ]
    },
    {
      "cell_type": "markdown",
      "source": [
        "## Array Indexing"
      ],
      "metadata": {
        "id": "Zyu4--pYrNnU"
      }
    },
    {
      "cell_type": "code",
      "source": [
        "# A 행렬에서 1행 2열을 출력하라.\n",
        "print(A[0, 1])\n",
        "# A 행렬에서 1-2행을 출력하라.\n",
        "print(A[0:2, :])\n",
        "# A 행렬에서 마지막 열을 빼고 출력하라.\n",
        "print(A[:, :-1])"
      ],
      "metadata": {
        "colab": {
          "base_uri": "https://localhost:8080/"
        },
        "id": "2gXyNrserGbL",
        "outputId": "f141f566-105d-4ba7-8d5d-c41addeaeea9"
      },
      "execution_count": null,
      "outputs": [
        {
          "output_type": "stream",
          "name": "stdout",
          "text": [
            "500\n",
            "[[400 500 600]\n",
            " [500 300 500]]\n",
            "[[400 500]\n",
            " [500 300]\n",
            " [700 400]]\n"
          ]
        }
      ]
    },
    {
      "cell_type": "code",
      "source": [
        "# A의 2열과 B의 1열을 더하라\n",
        "print(A[:, 1] + B[:, 0])\n",
        "\n",
        "# A, B 행렬에서 두 번째 행을 빼고 C, D 행렬을 만들어라\n",
        "C = A[(0, 2), :]\n",
        "D = B[(0, 2), :]\n",
        "print(C)\n",
        "print(D)"
      ],
      "metadata": {
        "colab": {
          "base_uri": "https://localhost:8080/"
        },
        "id": "O-iP9FrnrVxL",
        "outputId": "956d1132-b119-452e-cd9b-4b84fce0bc9e"
      },
      "execution_count": null,
      "outputs": [
        {
          "output_type": "stream",
          "name": "stdout",
          "text": [
            "[1000  600 1300]\n",
            "[[400 500 600]\n",
            " [700 400 700]]\n",
            "[[500 700 700]\n",
            " [900 200 900]]\n"
          ]
        }
      ]
    },
    {
      "cell_type": "markdown",
      "source": [
        "## Max, Min, Mean"
      ],
      "metadata": {
        "id": "W7NakYSIsG2B"
      }
    },
    {
      "cell_type": "code",
      "source": [
        "# max : 배열에서 가장 큰 값을 고름\n",
        "print(A.max(), B.max())\n",
        "# np.maximum : 둘 중에서 가장 큰 값을 고름\n",
        "print(np.maximum(A.max(), B.max()))\n",
        "\n",
        "print(A.min(), B.min())\n",
        "print(np.minimum(A.min(), B.min()))\n",
        "\n",
        "print(A.min(), B.mean())\n",
        "print((A.mean() + B.mean()) / 2)"
      ],
      "metadata": {
        "colab": {
          "base_uri": "https://localhost:8080/"
        },
        "id": "y9jSxJoYsEqe",
        "outputId": "ec461a3f-b326-4a3a-e2e7-810026064c7a"
      },
      "execution_count": null,
      "outputs": [
        {
          "output_type": "stream",
          "name": "stdout",
          "text": [
            "700 900\n",
            "900\n",
            "300 200\n",
            "200\n",
            "300 577.7777777777778\n",
            "544.4444444444445\n"
          ]
        }
      ]
    },
    {
      "cell_type": "markdown",
      "source": [
        "## Max, Min, Means along Axis"
      ],
      "metadata": {
        "id": "o_tMI6i0srtG"
      }
    },
    {
      "cell_type": "code",
      "source": [
        "print(A.max(axis=0)) # 각 열에서 가장 큰 값들을 골라옴\n",
        "print(A.max(axis = 1)) # 각 행에서 가장 큰 값들을 골라옴"
      ],
      "metadata": {
        "colab": {
          "base_uri": "https://localhost:8080/"
        },
        "id": "QGnENvBqsZUa",
        "outputId": "7eff9771-c03e-4030-f186-7eaef782cbb5"
      },
      "execution_count": null,
      "outputs": [
        {
          "output_type": "stream",
          "name": "stdout",
          "text": [
            "[700 500 700]\n",
            "[600 500 700]\n"
          ]
        }
      ]
    },
    {
      "cell_type": "markdown",
      "source": [
        "## Argmax, Argmin"
      ],
      "metadata": {
        "id": "qSDndZBMtT4l"
      }
    },
    {
      "cell_type": "code",
      "source": [
        "print(B - A)\n",
        "print(np.abs(A-B)) # abs : 절댓값취함"
      ],
      "metadata": {
        "colab": {
          "base_uri": "https://localhost:8080/"
        },
        "id": "4Ju0Ffcis5wi",
        "outputId": "7618b673-de71-47e5-9240-4d6ef4aff4ca"
      },
      "execution_count": null,
      "outputs": [
        {
          "output_type": "stream",
          "name": "stdout",
          "text": [
            "[[ 100  200  100]\n",
            " [-200  100  100]\n",
            " [ 200 -200  200]]\n",
            "[[100 200 100]\n",
            " [200 100 100]\n",
            " [200 200 200]]\n"
          ]
        }
      ]
    },
    {
      "cell_type": "code",
      "source": [
        "# argmax, argmin : 최소값, 최대값, 혹은 조건에 해당하는 색인(index) 값을 찾기\n",
        "print(np.argmax(np.abs(A-B)))\n",
        "print(np.argmin(np.abs(A-B)))"
      ],
      "metadata": {
        "colab": {
          "base_uri": "https://localhost:8080/"
        },
        "id": "UxQASXqztY9K",
        "outputId": "6e9cf297-c50e-448d-ca56-054a68ba72bc"
      },
      "execution_count": null,
      "outputs": [
        {
          "output_type": "stream",
          "name": "stdout",
          "text": [
            "1\n",
            "0\n"
          ]
        }
      ]
    },
    {
      "cell_type": "markdown",
      "source": [
        "# Expend Dimension"
      ],
      "metadata": {
        "id": "gz7Xp_Y6t54l"
      }
    },
    {
      "cell_type": "code",
      "source": [
        "import numpy as np\n",
        "A = np.random.rand(2, 3, 4)\n",
        "print(A)\n",
        "\n",
        "print(A.shape)\n",
        "print(A[:, np.newaxis, :, :].shape)   # newaxis : 새로운 차원을 끼움\n",
        "print(A[:, np.newaxis, :, np.newaxis, :].shape)\n",
        "print(A[..., np.newaxis].shape) ## ...으로 기존을 표현하고 뒤에  newaxis를 끼울 수 있다."
      ],
      "metadata": {
        "colab": {
          "base_uri": "https://localhost:8080/"
        },
        "id": "ANq__TuQt4Uu",
        "outputId": "edb8b1fe-761d-42ba-ce36-47d8e92cf407"
      },
      "execution_count": null,
      "outputs": [
        {
          "output_type": "stream",
          "name": "stdout",
          "text": [
            "[[[0.18135223 0.16296846 0.77909106 0.46345661]\n",
            "  [0.06314458 0.50165684 0.15223896 0.77285951]\n",
            "  [0.76764984 0.67577998 0.71952529 0.21150665]]\n",
            "\n",
            " [[0.71384048 0.04231117 0.33560477 0.00691725]\n",
            "  [0.35651812 0.19985388 0.80481465 0.08320727]\n",
            "  [0.51662801 0.86583596 0.04491693 0.86049326]]]\n",
            "(2, 3, 4)\n",
            "(2, 1, 3, 4)\n",
            "(2, 1, 3, 1, 4)\n",
            "(2, 3, 4, 1)\n"
          ]
        }
      ]
    },
    {
      "cell_type": "markdown",
      "source": [
        "# Broadcasting"
      ],
      "metadata": {
        "id": "Uc-hVtuuuZRp"
      }
    },
    {
      "cell_type": "code",
      "source": [
        "a = np.array([0.0, 10.0, 20.0, 30.0])\n",
        "b = np.array([1.0, 2.0, 3.0])\n",
        "print(a[:, np.newaxis] + b)\n",
        "print(a + b[:, np.newaxis])"
      ],
      "metadata": {
        "colab": {
          "base_uri": "https://localhost:8080/"
        },
        "id": "eWnD3_z8ugIs",
        "outputId": "ba50e456-096b-46a2-9691-97f4a549decb"
      },
      "execution_count": null,
      "outputs": [
        {
          "output_type": "stream",
          "name": "stdout",
          "text": [
            "[[ 1.  2.  3.]\n",
            " [11. 12. 13.]\n",
            " [21. 22. 23.]\n",
            " [31. 32. 33.]]\n",
            "[[ 1. 11. 21. 31.]\n",
            " [ 2. 12. 22. 32.]\n",
            " [ 3. 13. 23. 33.]]\n"
          ]
        }
      ]
    },
    {
      "cell_type": "markdown",
      "source": [
        "# repeat  "
      ],
      "metadata": {
        "id": "gwFTrOqtvZ8C"
      }
    },
    {
      "cell_type": "code",
      "source": [
        "  X = np.array([1, 2, 3])\n",
        "  Y = np.array([[1, 2],\n",
        "                [3, 4]])\n",
        "\n",
        "  print(np.repeat(X, 3))\n",
        "  print(np.repeat(Y, 3))\n",
        "\n",
        "  print(np.repeat(Y, 3, axis=0))\n",
        "  print(np.repeat(Y, 3, axis=1))"
      ],
      "metadata": {
        "colab": {
          "base_uri": "https://localhost:8080/"
        },
        "id": "krByZqtFunH5",
        "outputId": "0dd4b9dd-1e4c-4137-9344-b27692df45a6"
      },
      "execution_count": null,
      "outputs": [
        {
          "output_type": "stream",
          "name": "stdout",
          "text": [
            "[1 1 1 2 2 2 3 3 3]\n",
            "[1 1 1 2 2 2 3 3 3 4 4 4]\n",
            "[[1 2]\n",
            " [1 2]\n",
            " [1 2]\n",
            " [3 4]\n",
            " [3 4]\n",
            " [3 4]]\n",
            "[[1 1 1 2 2 2]\n",
            " [3 3 3 4 4 4]]\n"
          ]
        }
      ]
    },
    {
      "cell_type": "markdown",
      "source": [
        "# repeat vs. tile"
      ],
      "metadata": {
        "id": "z_H4A5nCvuDa"
      }
    },
    {
      "cell_type": "code",
      "source": [
        "X = np.array([1, 2, 3])\n",
        "Y = np.array([[1, 2],\n",
        "              [3, 4]])\n",
        "\n",
        "print(np.repeat(X, 3))\n",
        "print(np.tile(X, 3))\n",
        "\n",
        "print(np.tile(Y, [1, 1]))\n",
        "print(np.tile(Y, [2, 1]))\n",
        "print(np.tile(Y, [1, 3]))\n",
        "print(np.tile(Y, [2, 4]))"
      ],
      "metadata": {
        "colab": {
          "base_uri": "https://localhost:8080/"
        },
        "id": "L25lrGL9vggA",
        "outputId": "b8ea7b76-979c-4673-868e-8879f6f3016a"
      },
      "execution_count": null,
      "outputs": [
        {
          "output_type": "stream",
          "name": "stdout",
          "text": [
            "[1 1 1 2 2 2 3 3 3]\n",
            "[1 2 3 1 2 3 1 2 3]\n",
            "[[1 2]\n",
            " [3 4]]\n",
            "[[1 2]\n",
            " [3 4]\n",
            " [1 2]\n",
            " [3 4]]\n",
            "[[1 2 1 2 1 2]\n",
            " [3 4 3 4 3 4]]\n",
            "[[1 2 1 2 1 2 1 2]\n",
            " [3 4 3 4 3 4 3 4]\n",
            " [1 2 1 2 1 2 1 2]\n",
            " [3 4 3 4 3 4 3 4]]\n"
          ]
        }
      ]
    },
    {
      "cell_type": "markdown",
      "source": [
        "# Stack"
      ],
      "metadata": {
        "id": "SLb24EeXwIQX"
      }
    },
    {
      "cell_type": "code",
      "source": [
        "a1 = np.random.rand(5, 100)\n",
        "a2 = np.random.rand(5, 100)\n",
        "a3 = np.random.rand(5, 100)\n",
        "\n",
        "a_stack = np.stack([a1, a2, a3])\n",
        "a_stack_0 = np.stack([a1, a2, a3], axis=0)\n",
        "\n",
        "a_stack_1 = np.stack([a1, a2, a3], axis=1)\n",
        "\n",
        "a_stack_2 = np.stack([a1, a2, a3], axis=2)\n",
        "a_stack_m = np.stack([a1, a2, a3], axis=-1)\n",
        "\n",
        "print(a_stack.shape)\n",
        "print(a_stack_0.shape)\n",
        "print(a_stack_1.shape)\n",
        "print(a_stack_2.shape)\n",
        "print(a_stack_m.shape)"
      ],
      "metadata": {
        "colab": {
          "base_uri": "https://localhost:8080/"
        },
        "id": "BhuMRw1_v_iw",
        "outputId": "d7e567f7-c71c-4c73-daa3-63f0ac443c48"
      },
      "execution_count": null,
      "outputs": [
        {
          "output_type": "stream",
          "name": "stdout",
          "text": [
            "(3, 5, 100)\n",
            "(3, 5, 100)\n",
            "(5, 3, 100)\n",
            "(5, 100, 3)\n",
            "(5, 100, 3)\n"
          ]
        }
      ]
    },
    {
      "cell_type": "markdown",
      "source": [
        "# concatenate"
      ],
      "metadata": {
        "id": "WZOq1gPFwsxq"
      }
    },
    {
      "cell_type": "code",
      "source": [
        "v1 = np.random.rand(10, 4, 3)\n",
        "v2 = np.random.rand(20, 4, 3)\n",
        "v3 = np.random.rand(30, 4, 3)\n",
        "\n",
        "h1 = np.random.rand(5, 10, 3)\n",
        "h2 = np.random.rand(5, 20, 3)\n",
        "h3 = np.random.rand(5, 30, 3)\n",
        "\n",
        "vstack0 = np.vstack([v1, v2, v3])\n",
        "concat0 = np.concatenate([v1, v2, v3], axis=0)\n",
        "\n",
        "hstack1 = np.hstack([h1, h2, h3])\n",
        "concat1 = np.concatenate([h1, h2, h3], axis=1)\n",
        "\n",
        "print(vstack0.shape)\n",
        "print(concat0.shape)\n",
        "print(hstack1.shape)\n",
        "print(concat1.shape)"
      ],
      "metadata": {
        "colab": {
          "base_uri": "https://localhost:8080/"
        },
        "id": "aOWvNPDhwrLc",
        "outputId": "d63c6c50-ac0d-4a46-eec8-c3367a1c7913"
      },
      "execution_count": null,
      "outputs": [
        {
          "output_type": "stream",
          "name": "stdout",
          "text": [
            "(60, 4, 3)\n",
            "(60, 4, 3)\n",
            "(5, 60, 3)\n",
            "(5, 60, 3)\n"
          ]
        }
      ]
    },
    {
      "cell_type": "code",
      "source": [],
      "metadata": {
        "id": "SK3dIEXnxQoS"
      },
      "execution_count": null,
      "outputs": []
    }
  ]
}