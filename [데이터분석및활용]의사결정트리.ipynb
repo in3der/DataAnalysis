{
  "cells": [
    {
      "cell_type": "markdown",
      "metadata": {
        "id": "view-in-github",
        "colab_type": "text"
      },
      "source": [
        "<a href=\"https://colab.research.google.com/github/in3der/DataAnalysis/blob/main/%5B%EB%8D%B0%EC%9D%B4%ED%84%B0%EB%B6%84%EC%84%9D%EB%B0%8F%ED%99%9C%EC%9A%A9%5D%EC%9D%98%EC%82%AC%EA%B2%B0%EC%A0%95%ED%8A%B8%EB%A6%AC.ipynb\" target=\"_parent\"><img src=\"https://colab.research.google.com/assets/colab-badge.svg\" alt=\"Open In Colab\"/></a>"
      ]
    },
    {
      "cell_type": "markdown",
      "source": [
        "**의사 결정트리 ID3 과정 연습해보기**"
      ],
      "metadata": {
        "id": "eCZzbGIYlQmD"
      },
      "id": "eCZzbGIYlQmD"
    },
    {
      "cell_type": "markdown",
      "source": [
        "- 데이터 로딩\n",
        "> 교재 예제에서 보았던 age, income, student, credit을 바탕으로 컴퓨터 구매여부 (class_buy_computer)를 예측하기 위한 데이터"
      ],
      "metadata": {
        "id": "WfY6LZZ-nzSv"
      },
      "id": "WfY6LZZ-nzSv"
    },
    {
      "cell_type": "code",
      "execution_count": null,
      "id": "1b51d02f",
      "metadata": {
        "id": "1b51d02f"
      },
      "outputs": [],
      "source": [
        "import pandas as pd\n",
        "import numpy as np\n",
        "\n",
        "pd_data = pd.read_csv('https://raw.githubusercontent.com/AugustLONG/ML01/master/01decisiontree/AllElectronics.csv')\n",
        "pd_data"
      ]
    },
    {
      "cell_type": "markdown",
      "source": [
        "- 학습에 필요 없는 열 제거\n",
        "> 첫 번째 열인 RID는 의미 없는 인덱스 번호이므로 제거"
      ],
      "metadata": {
        "id": "Vco6r1N5ntZW"
      },
      "id": "Vco6r1N5ntZW"
    },
    {
      "cell_type": "code",
      "source": [
        "pd_data = pd_data.drop(\"RID\",axis=1)"
      ],
      "metadata": {
        "id": "uLR8fQYGnrGT"
      },
      "id": "uLR8fQYGnrGT",
      "execution_count": null,
      "outputs": []
    },
    {
      "cell_type": "markdown",
      "source": [
        "- 정보이득 함수 만들기: y값의 클래스를 기준으로 엔트로피 연산을 실시\n",
        "> class_buys_computer가 yes인 경우와 no인 경우로 나눠서 연산"
      ],
      "metadata": {
        "id": "kCS-w2--n3VE"
      },
      "id": "kCS-w2--n3VE"
    },
    {
      "cell_type": "markdown",
      "source": [
        "![image.png](data:image/png;base64,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)"
      ],
      "metadata": {
        "id": "3oYmiyxtsxfS"
      },
      "id": "3oYmiyxtsxfS"
    },
    {
      "cell_type": "code",
      "execution_count": null,
      "id": "06297531",
      "metadata": {
        "id": "06297531"
      },
      "outputs": [],
      "source": [
        "def get_info(df):\n",
        "    buy = df.loc[df[\"class_buys_computer\"]==\"yes\"]\n",
        "    not_buy = df.loc[df[\"class_buys_computer\"]==\"no\"]\n",
        "    x = np.array([len(buy)/len(df),len(not_buy)/len(df)])\n",
        "    y = np.log2(x[x!=0])\n",
        "\n",
        "    info_all = - sum(x[x!=0] * y)\n",
        "    return info_all"
      ]
    },
    {
      "cell_type": "code",
      "execution_count": null,
      "id": "d19b0838",
      "metadata": {
        "id": "d19b0838"
      },
      "outputs": [],
      "source": [
        "get_info(pd_data)"
      ]
    },
    {
      "cell_type": "markdown",
      "source": [
        "- 속성별 정보 이득률 구하기\n",
        "> 각 속성들의 클래스를 기준으로 데이터를 추출한 후 정보 이득을 산출"
      ],
      "metadata": {
        "id": "bzPzwrZspE5x"
      },
      "id": "bzPzwrZspE5x"
    },
    {
      "cell_type": "code",
      "execution_count": null,
      "id": "5593b7f8",
      "metadata": {
        "id": "5593b7f8"
      },
      "outputs": [],
      "source": [
        "youth = pd_data.loc[pd_data['age'] == \"youth\"]\n",
        "senior = pd_data.loc[pd_data['age'] == \"senior\"]\n",
        "middle_aged = pd_data.loc[pd_data['age'] == \"middle_aged\"]"
      ]
    },
    {
      "cell_type": "code",
      "source": [
        "youth"
      ],
      "metadata": {
        "id": "XH7AA6kZtV3J"
      },
      "id": "XH7AA6kZtV3J",
      "execution_count": null,
      "outputs": []
    },
    {
      "cell_type": "markdown",
      "source": [
        "> **age** 속성을 사용해서 분할 했을 때, youth 클래스에만 해당하는 정보이득"
      ],
      "metadata": {
        "id": "pvQNpBGCtgMz"
      },
      "id": "pvQNpBGCtgMz"
    },
    {
      "cell_type": "code",
      "execution_count": null,
      "id": "a3f3a624",
      "metadata": {
        "id": "a3f3a624"
      },
      "outputs": [],
      "source": [
        "get_info(youth)"
      ]
    },
    {
      "cell_type": "markdown",
      "source": [
        "> **age** 속성을 사용해서 분할 했을 때, senior 클래스에만 해당하는 정보이득"
      ],
      "metadata": {
        "id": "DSQKALC2trEW"
      },
      "id": "DSQKALC2trEW"
    },
    {
      "cell_type": "code",
      "execution_count": null,
      "id": "77048e12",
      "metadata": {
        "id": "77048e12"
      },
      "outputs": [],
      "source": [
        "get_info(senior)"
      ]
    },
    {
      "cell_type": "markdown",
      "source": [
        "> **age** 속성을 사용해서 분할 했을 때, middle_aged 클래스에만 해당하는 정보이득"
      ],
      "metadata": {
        "id": "pjNSeoiEttcG"
      },
      "id": "pjNSeoiEttcG"
    },
    {
      "cell_type": "code",
      "execution_count": null,
      "id": "d1d65bca",
      "metadata": {
        "id": "d1d65bca"
      },
      "outputs": [],
      "source": [
        "get_info(middle_aged)"
      ]
    },
    {
      "cell_type": "markdown",
      "source": [
        "> **age** 속성의 클래스 항목을 확인하는 방법"
      ],
      "metadata": {
        "id": "hlEs8ppHuXru"
      },
      "id": "hlEs8ppHuXru"
    },
    {
      "cell_type": "code",
      "source": [
        "pd_data[\"age\"]"
      ],
      "metadata": {
        "id": "7g_TABuNucV0"
      },
      "id": "7g_TABuNucV0",
      "execution_count": null,
      "outputs": []
    },
    {
      "cell_type": "markdown",
      "source": [
        "> unique 함수는 값이 중복되지 않게 리스트를 반환한다."
      ],
      "metadata": {
        "id": "x8RmsMKlukMs"
      },
      "id": "x8RmsMKlukMs"
    },
    {
      "cell_type": "code",
      "source": [
        "pd_data[\"age\"].unique()"
      ],
      "metadata": {
        "id": "7y4Cd0yyuhiX"
      },
      "id": "7y4Cd0yyuhiX",
      "execution_count": null,
      "outputs": []
    },
    {
      "cell_type": "markdown",
      "source": [
        "- 자동으로 속성별 정보 이득 연산하기\n",
        "> **age** 속성의 클래스 항목들에 대해서 정보이득을 구함"
      ],
      "metadata": {
        "id": "l28_zfPZpIk0"
      },
      "id": "l28_zfPZpIk0"
    },
    {
      "cell_type": "code",
      "source": [
        "attribute_values = pd_data[\"age\"].unique()\n",
        "\n",
        "for value in attribute_values:\n",
        "    split_df = pd_data.loc[pd_data[\"age\"] == value]\n",
        "    print(value, get_info(split_df))"
      ],
      "metadata": {
        "id": "vh0fzHCUvIXm"
      },
      "id": "vh0fzHCUvIXm",
      "execution_count": null,
      "outputs": []
    },
    {
      "cell_type": "markdown",
      "source": [
        " > DataFrame (df)의 속성 (attribute_name)의 각 클래스 항목에 대해서 정보이득을 구한 이후에 개수에 따른 **가중 평균**을 구함."
      ],
      "metadata": {
        "id": "wBWsTVjQvC8H"
      },
      "id": "wBWsTVjQvC8H"
    },
    {
      "cell_type": "code",
      "execution_count": null,
      "id": "89643b3c",
      "metadata": {
        "id": "89643b3c"
      },
      "outputs": [],
      "source": [
        "def get_attribute_info(df, attribute_name):\n",
        "\n",
        "    attribute_values = pd_data[attribute_name].unique()\n",
        "    get_infos = []\n",
        "    for value in attribute_values:\n",
        "        split_df = df.loc[pd_data[attribute_name] == value]\n",
        "        get_infos.append((len(split_df) / len(df)) * get_info(split_df))\n",
        "\n",
        "    return sum(get_infos)"
      ]
    },
    {
      "cell_type": "code",
      "execution_count": null,
      "id": "50984d0e",
      "metadata": {
        "id": "50984d0e"
      },
      "outputs": [],
      "source": [
        "get_attribute_info(pd_data, \"age\")"
      ]
    },
    {
      "cell_type": "markdown",
      "source": [
        "- 정보 이득 계산하기\n",
        "> 전체 데이터 대비 각각의 속성 데이터를 분리하여 계산"
      ],
      "metadata": {
        "id": "EzTlSRB-pQ3g"
      },
      "id": "EzTlSRB-pQ3g"
    },
    {
      "cell_type": "markdown",
      "source": [
        "![image.png](data:image/png;base64,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)"
      ],
      "metadata": {
        "id": "nczy5qhGv863"
      },
      "id": "nczy5qhGv863"
    },
    {
      "cell_type": "code",
      "execution_count": null,
      "id": "b937c32b",
      "metadata": {
        "id": "b937c32b"
      },
      "outputs": [],
      "source": [
        "get_info(pd_data) - get_attribute_info(pd_data, \"age\")"
      ]
    },
    {
      "cell_type": "code",
      "execution_count": null,
      "id": "5649ada6",
      "metadata": {
        "id": "5649ada6"
      },
      "outputs": [],
      "source": [
        "get_info(pd_data) - get_attribute_info(pd_data, \"income\")"
      ]
    },
    {
      "cell_type": "code",
      "execution_count": null,
      "id": "761b864e",
      "metadata": {
        "id": "761b864e"
      },
      "outputs": [],
      "source": [
        "get_info(pd_data) - get_attribute_info(pd_data, \"student\")"
      ]
    },
    {
      "cell_type": "code",
      "execution_count": null,
      "id": "feecbb90",
      "metadata": {
        "id": "feecbb90"
      },
      "outputs": [],
      "source": [
        "get_info(pd_data) - get_attribute_info(pd_data, \"credit_rating\")"
      ]
    },
    {
      "cell_type": "markdown",
      "source": [
        "- 정보 이득이 가장 큰 age 속성값을 기준으로 의사결정트리 가지를 생성\n",
        "> 가지 생성을 재귀적으로 수행함\n"
      ],
      "metadata": {
        "id": "IGpEoVinpXuc"
      },
      "id": "IGpEoVinpXuc"
    },
    {
      "cell_type": "code",
      "source": [
        "youth = pd_data.loc[pd_data['age'] == \"youth\"]\n",
        "get_info(youth)"
      ],
      "metadata": {
        "id": "8tJIut6CwecU"
      },
      "id": "8tJIut6CwecU",
      "execution_count": null,
      "outputs": []
    },
    {
      "cell_type": "code",
      "source": [
        "youth"
      ],
      "metadata": {
        "id": "ab6t-um1xbBG"
      },
      "id": "ab6t-um1xbBG",
      "execution_count": null,
      "outputs": []
    },
    {
      "cell_type": "code",
      "source": [
        "get_attribute_info(youth, \"income\")"
      ],
      "metadata": {
        "id": "cS1U_FEYxEgS"
      },
      "id": "cS1U_FEYxEgS",
      "execution_count": null,
      "outputs": []
    },
    {
      "cell_type": "code",
      "execution_count": null,
      "id": "f0a6fb5c",
      "metadata": {
        "id": "f0a6fb5c"
      },
      "outputs": [],
      "source": [
        "get_info(youth) - get_attribute_info(youth, \"student\")"
      ]
    },
    {
      "cell_type": "code",
      "execution_count": null,
      "id": "3942c492",
      "metadata": {
        "id": "3942c492"
      },
      "outputs": [],
      "source": [
        "get_info(youth) - get_attribute_info(youth, \"credit_rating\")"
      ]
    },
    {
      "cell_type": "markdown",
      "source": [
        "\n",
        "> 정보이득이 가장 큰 student가 다음 분기를 위한 속성으로 사용\n",
        "\n",
        "> 이러한 일련의 과정을 재귀적으로 수행하는 알고리즘 구현의 문제는 \"자료구조\"와 \"알고리즘\" 기반 이해가 필요"
      ],
      "metadata": {
        "id": "Zpl_dUe9zQyH"
      },
      "id": "Zpl_dUe9zQyH"
    },
    {
      "cell_type": "markdown",
      "source": [
        "**사이킷런으로 의사결정트리 구현하기**"
      ],
      "metadata": {
        "id": "SzPuCJ7ZlhFY"
      },
      "id": "SzPuCJ7ZlhFY"
    },
    {
      "cell_type": "markdown",
      "source": [
        "- 데이터 불러오기"
      ],
      "metadata": {
        "id": "97bFSMj4pmAc"
      },
      "id": "97bFSMj4pmAc"
    },
    {
      "cell_type": "code",
      "execution_count": null,
      "id": "e7fc60ea",
      "metadata": {
        "id": "e7fc60ea"
      },
      "outputs": [],
      "source": [
        "import pandas as pd\n",
        "\n",
        "!gdown https://drive.google.com/uc?id=1xiSgJZ8iyWruHlQG_n71naMb-uigxfpF\n",
        "!gdown https://drive.google.com/uc?id=1y9xrKsP6JQrIHYNd0NNVg2-4tNyu7WZl\n",
        "train_df = pd.read_csv(\"train.csv\")\n",
        "test_df = pd.read_csv(\"test.csv\")\n",
        "\n",
        "train_id = train_df[\"PassengerId\"].values\n",
        "test_id = test_df[\"PassengerId\"].values\n",
        "\n",
        "all_df = train_df.append(test_df).set_index('PassengerId')"
      ]
    },
    {
      "cell_type": "markdown",
      "source": [
        "> 전처리를 위해서 train_id와 test_id를 하나로 합쳐서 사용한다.\n",
        "\n",
        "> 전처리 후에 추후 다시 training set과 test set을 분리하기 위해서 PassengerId 속성 값을 기억해 놓는다."
      ],
      "metadata": {
        "id": "un7A5Q174Naj"
      },
      "id": "un7A5Q174Naj"
    },
    {
      "cell_type": "code",
      "source": [
        "train_df"
      ],
      "metadata": {
        "id": "g9RDdaDO4BEj"
      },
      "id": "g9RDdaDO4BEj",
      "execution_count": null,
      "outputs": []
    },
    {
      "cell_type": "markdown",
      "source": [
        "- 데이터 전처리\n",
        "> 데이터를 코드화시키고 결측치를 채우기"
      ],
      "metadata": {
        "id": "1IcPQhEmpoas"
      },
      "id": "1IcPQhEmpoas"
    },
    {
      "cell_type": "code",
      "execution_count": null,
      "id": "214191f2",
      "metadata": {
        "id": "214191f2"
      },
      "outputs": [],
      "source": [
        "all_df[\"Sex\"] = all_df[\"Sex\"].replace({\"male\":0,\"female\":1})\n",
        "\n",
        "all_df[\"Age\"].fillna(\n",
        "    all_df.groupby(\"Pclass\")[\"Age\"].transform(\"mean\"), inplace=True)"
      ]
    },
    {
      "cell_type": "markdown",
      "source": [
        "> 성별은 이진 값을 가지므로 \"male\"을 0으로 \"female\"을 1로 변경한다.\n",
        "\n",
        "> 나이 값의 빈칸의 값을 각 클래스 (Pclass)의 평균값으로 채운다."
      ],
      "metadata": {
        "id": "0K7A-oSx5BDv"
      },
      "id": "0K7A-oSx5BDv"
    },
    {
      "cell_type": "code",
      "source": [
        "all_df[200:300]"
      ],
      "metadata": {
        "id": "RafIlsyj5TG4"
      },
      "id": "RafIlsyj5TG4",
      "execution_count": null,
      "outputs": []
    },
    {
      "cell_type": "markdown",
      "source": [
        "> Cabin 속성은 NaN, 또는 짐 형태와 번호 (ex, C22, B60)가 나열되어있다.\n",
        "\n",
        "> 따라서 NaN일 경우에는 0 (str이 아닐경우), 1개 이상일 경우에는 짐 개수를 입력으로 사용한다."
      ],
      "metadata": {
        "id": "XKPMBZXP5yV8"
      },
      "id": "XKPMBZXP5yV8"
    },
    {
      "cell_type": "code",
      "execution_count": null,
      "id": "3f0db589",
      "metadata": {
        "id": "3f0db589"
      },
      "outputs": [],
      "source": [
        "all_df[\"cabin_count\"] = all_df[\"Cabin\"].map(lambda x : len(x.split()) if type(x) == str else 0)"
      ]
    },
    {
      "cell_type": "code",
      "source": [
        "all_df[200:300]"
      ],
      "metadata": {
        "id": "Z7YnFubC6RJL"
      },
      "id": "Z7YnFubC6RJL",
      "execution_count": null,
      "outputs": []
    },
    {
      "cell_type": "markdown",
      "source": [
        "> 이름에 있는 명칭 (Mrs, Ms, Mr, Miss, Master, Dr, Rev, Col)을 이용하여 사회적 지위 정보를 정리하여 새로운 열에 저장한다."
      ],
      "metadata": {
        "id": "c1_9tgoe6i_O"
      },
      "id": "c1_9tgoe6i_O"
    },
    {
      "cell_type": "code",
      "execution_count": null,
      "id": "21af2ccb",
      "metadata": {
        "id": "21af2ccb"
      },
      "outputs": [],
      "source": [
        "def transform_status(x):\n",
        "    if \"Mrs\" in x or \"Ms\" in x:\n",
        "        return \"Mrs\"\n",
        "    elif \"Mr\" in x:\n",
        "        return \"Mr\"\n",
        "    elif \"Miss\" in x:\n",
        "        return \"Miss\"\n",
        "    elif \"Master\" in x:\n",
        "        return \"Master\"\n",
        "    elif \"Dr\" in x:\n",
        "        return \"Dr\"\n",
        "    elif \"Rev\" in x:\n",
        "        return \"Rev\"\n",
        "    elif \"Col\" in x:\n",
        "        return \"Col\"\n",
        "    else:\n",
        "        return \"0\"\n",
        "\n",
        "all_df[\"social_status\"] = all_df[\"Name\"].map(lambda x : transform_status(x))"
      ]
    },
    {
      "cell_type": "code",
      "execution_count": null,
      "id": "fc9041d0",
      "metadata": {
        "id": "fc9041d0"
      },
      "outputs": [],
      "source": [
        "all_df[\"social_status\"].value_counts()"
      ]
    },
    {
      "cell_type": "code",
      "source": [
        "all_df"
      ],
      "metadata": {
        "id": "XatWdQaJ6v1p"
      },
      "id": "XatWdQaJ6v1p",
      "execution_count": null,
      "outputs": []
    },
    {
      "cell_type": "markdown",
      "source": [
        "> 사용하지 않을 데이터를 삭제한다. (Embarked 승선 하지 않은 사람을 삭제 한다)"
      ],
      "metadata": {
        "id": "nMUKl2k8ps9K"
      },
      "id": "nMUKl2k8ps9K"
    },
    {
      "cell_type": "code",
      "execution_count": null,
      "id": "34a02e95",
      "metadata": {
        "id": "34a02e95"
      },
      "outputs": [],
      "source": [
        "all_df[all_df[\"Embarked\"].isnull()]"
      ]
    },
    {
      "cell_type": "code",
      "execution_count": null,
      "id": "cad0a81b",
      "metadata": {
        "id": "cad0a81b"
      },
      "outputs": [],
      "source": [
        "all_df = all_df.drop([62,830])\n",
        "train_id = np.delete(train_id, [62-1,830-1])"
      ]
    },
    {
      "cell_type": "code",
      "source": [
        "all_df[all_df[\"Embarked\"].isnull()]"
      ],
      "metadata": {
        "id": "4qWn6dp1_qKt"
      },
      "id": "4qWn6dp1_qKt",
      "execution_count": null,
      "outputs": []
    },
    {
      "cell_type": "markdown",
      "source": [
        "> 빈 데이터는 적당한 값 채운다."
      ],
      "metadata": {
        "id": "nyQh_m3Yp0JA"
      },
      "id": "nyQh_m3Yp0JA"
    },
    {
      "cell_type": "code",
      "execution_count": null,
      "id": "3cc40d7f",
      "metadata": {
        "id": "3cc40d7f"
      },
      "outputs": [],
      "source": [
        "all_df[all_df[\"Fare\"].isnull()]"
      ]
    },
    {
      "cell_type": "code",
      "execution_count": null,
      "id": "de0e4c0b",
      "metadata": {
        "id": "de0e4c0b"
      },
      "outputs": [],
      "source": [
        "all_df.groupby([\"Pclass\",\"Sex\"])[\"Fare\"].mean()"
      ]
    },
    {
      "cell_type": "code",
      "execution_count": null,
      "id": "cc79baec",
      "metadata": {
        "id": "cc79baec"
      },
      "outputs": [],
      "source": [
        "all_df.loc[all_df[\"Fare\"].isnull(), \"Fare\"] = 12.415462"
      ]
    },
    {
      "cell_type": "markdown",
      "source": [
        "> 짐의 형태에 따라 생존 여부가 달라질 수 있다고 가정하고 전처리 작업을 진행 (실험적인 검증이 필요)"
      ],
      "metadata": {
        "id": "_g2YwpaZp9Ll"
      },
      "id": "_g2YwpaZp9Ll"
    },
    {
      "cell_type": "code",
      "execution_count": null,
      "id": "770a6d27",
      "metadata": {
        "id": "770a6d27"
      },
      "outputs": [],
      "source": [
        "all_df[\"cabin_type\"] = all_df[\"Cabin\"].map(lambda x : x[0] if type(x) == str else \"None\")"
      ]
    },
    {
      "cell_type": "code",
      "source": [
        "all_df[\"cabin_type\"].value_counts()"
      ],
      "metadata": {
        "id": "oP-fT8Hw9KB5"
      },
      "id": "oP-fT8Hw9KB5",
      "execution_count": null,
      "outputs": []
    },
    {
      "cell_type": "markdown",
      "source": [
        "> 불필요하다고 생각하는 속성 (열)을 삭제한다."
      ],
      "metadata": {
        "id": "Oszq8ZYC7sud"
      },
      "id": "Oszq8ZYC7sud"
    },
    {
      "cell_type": "code",
      "execution_count": null,
      "id": "5d913c54",
      "metadata": {
        "id": "5d913c54"
      },
      "outputs": [],
      "source": [
        "del all_df[\"Cabin\"]\n",
        "del all_df[\"Name\"]\n",
        "del all_df[\"Ticket\"]"
      ]
    },
    {
      "cell_type": "markdown",
      "source": [
        "> 결과값 속성 (종속변수)의 값은 별도로 추출하고, 삭제한다."
      ],
      "metadata": {
        "id": "lPbHgXsS71JF"
      },
      "id": "lPbHgXsS71JF"
    },
    {
      "cell_type": "code",
      "execution_count": null,
      "id": "d2edfa05",
      "metadata": {
        "id": "d2edfa05"
      },
      "outputs": [],
      "source": [
        "Y = all_df[\"Survived\"]\n",
        "del all_df[\"Survived\"]"
      ]
    },
    {
      "cell_type": "markdown",
      "source": [
        "- 원핫인코딩과 스케일링\n",
        "> 데이터를 원핫으로 변경 후 넘파이 배열로 변경"
      ],
      "metadata": {
        "id": "cGnbspoaqRzH"
      },
      "id": "cGnbspoaqRzH"
    },
    {
      "cell_type": "code",
      "execution_count": null,
      "id": "c797a37e",
      "metadata": {
        "id": "c797a37e"
      },
      "outputs": [],
      "source": [
        "X_df = pd.get_dummies(all_df)\n",
        "X = X_df.values\n",
        "\n",
        "X_df.keys()"
      ]
    },
    {
      "cell_type": "markdown",
      "source": [
        "> 학습데이터와 시험데이터를 다시 분리한다."
      ],
      "metadata": {
        "id": "ofksjOYz9kep"
      },
      "id": "ofksjOYz9kep"
    },
    {
      "cell_type": "code",
      "execution_count": null,
      "id": "c14059cc",
      "metadata": {
        "id": "c14059cc"
      },
      "outputs": [],
      "source": [
        "X_train = X[:len(train_id)]\n",
        "X_test = X[len(train_id):]\n",
        "Y_train = Y[:len(train_id)]\n",
        "Y_test = Y[len(train_id):]"
      ]
    },
    {
      "cell_type": "code",
      "source": [
        "Y_train, Y_test"
      ],
      "metadata": {
        "id": "c_o9NEvjEuwT"
      },
      "id": "c_o9NEvjEuwT",
      "execution_count": null,
      "outputs": []
    },
    {
      "cell_type": "markdown",
      "source": [
        "> 학습데이터에서 Scaling을 수행하고, 학습/시험 데이터에 적용해준다."
      ],
      "metadata": {
        "id": "kXvDJ22D9c9P"
      },
      "id": "kXvDJ22D9c9P"
    },
    {
      "cell_type": "code",
      "execution_count": null,
      "id": "9998e02f",
      "metadata": {
        "id": "9998e02f"
      },
      "outputs": [],
      "source": [
        "from sklearn.preprocessing import MinMaxScaler\n",
        "minmax_scaler = MinMaxScaler()\n",
        "\n",
        "minmax_scaler.fit(X_train)"
      ]
    },
    {
      "cell_type": "code",
      "source": [
        "X_train, X_test"
      ],
      "metadata": {
        "id": "qOf3pDzvAY85"
      },
      "id": "qOf3pDzvAY85",
      "execution_count": null,
      "outputs": []
    },
    {
      "cell_type": "code",
      "source": [
        "X_train = minmax_scaler.transform(X_train)\n",
        "X_test = minmax_scaler.transform(X_test)"
      ],
      "metadata": {
        "id": "GZhXFKxIAX15"
      },
      "id": "GZhXFKxIAX15",
      "execution_count": null,
      "outputs": []
    },
    {
      "cell_type": "code",
      "source": [
        "X_train, X_test"
      ],
      "metadata": {
        "id": "0R4tKbzC91wJ"
      },
      "id": "0R4tKbzC91wJ",
      "execution_count": null,
      "outputs": []
    },
    {
      "cell_type": "markdown",
      "source": [
        "- 학습 실행하기"
      ],
      "metadata": {
        "id": "KR7l_yR1qd1-"
      },
      "id": "KR7l_yR1qd1-"
    },
    {
      "cell_type": "markdown",
      "source": [
        "주요 하이퍼 매개변수\n",
        "\n",
        "- **criterion** : [“gini”, “entropy”] : 지니 지수를 기준으로 나눌지, 정보 이득을 기준으로 나눌지 지정\n",
        "- **max_depth** : int : 트리의 깊이를 지정\n",
        "- **min_samples_leaf** : int or float : 마지막 노드의 최소 데이터의 개수를 지정 (int는 데이터의 개수, float는 전체 데이터에서의 비율)"
      ],
      "metadata": {
        "id": "nQhOLHYhqlaS"
      },
      "id": "nQhOLHYhqlaS"
    },
    {
      "cell_type": "markdown",
      "source": [
        "> 마지막 노드의 개수 (min_samples_leaf) 개수를 조정하여 가지치기를 실시하고자 한다."
      ],
      "metadata": {
        "id": "DVx-RLWX-Qfv"
      },
      "id": "DVx-RLWX-Qfv"
    },
    {
      "cell_type": "markdown",
      "source": [
        "- 교차 검증 (cross_val_score)\n",
        "\n",
        "> N-fold cross validation\n",
        "\n",
        "> N = 5 예제"
      ],
      "metadata": {
        "id": "S9abwO8AEOIh"
      },
      "id": "S9abwO8AEOIh"
    },
    {
      "cell_type": "markdown",
      "source": [
        "![image.png](data:image/png;base64,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)"
      ],
      "metadata": {
        "id": "5uUBUvyfEdb6"
      },
      "id": "5uUBUvyfEdb6"
    },
    {
      "cell_type": "code",
      "execution_count": null,
      "id": "4e24b421",
      "metadata": {
        "id": "4e24b421"
      },
      "outputs": [],
      "source": [
        "from sklearn.tree import DecisionTreeClassifier\n",
        "\n",
        "from sklearn.model_selection import cross_val_score\n",
        "from sklearn.metrics import accuracy_score\n",
        "\n",
        "test_accuracy = []\n",
        "train_accuracy = []\n",
        "for idx in range(3, 20):\n",
        "    dt = DecisionTreeClassifier(min_samples_leaf=idx)\n",
        "    acc = cross_val_score(dt, X_train, y, scoring=\"accuracy\", cv=5).mean()\n",
        "    train_accuracy.append(accuracy_score(dt.fit(X_train, Y_train).predict(X_train), Y_train))\n",
        "    test_accuracy.append(acc)\n",
        "\n",
        "result = pd.DataFrame(train_accuracy, index=range(3,20), columns=[\"train\"])\n",
        "result[\"test\"] = test_accuracy\n",
        "\n",
        "result.plot()"
      ]
    },
    {
      "cell_type": "markdown",
      "source": [
        "> test 데이터셋의 정확성은 11에서 가장 높았다가 계속 떨어짐\n",
        "\n",
        "> 의사결정트리의 경우 마지막 노드의 데이터 개수가 적으면 적을수록 과대적합이 발생"
      ],
      "metadata": {
        "id": "3VbEkK6hqvAp"
      },
      "id": "3VbEkK6hqvAp"
    },
    {
      "cell_type": "markdown",
      "source": [
        "- 의사결정트리 시각화하기\n",
        "\n",
        "> 의사결정트리는 데이터 분석가에게 어떤 피쳐가 가장 중요한지를 보여줌\n",
        "\n",
        "> 하나의 노드를 기준으로 어떤 속성에 대해서 어떤 기준으로 가지가 발생했는지, 각 가지마다 데이터의 개수가 어떻게 나누어지는지 확인 가능"
      ],
      "metadata": {
        "id": "VwoENpyzBzSR"
      },
      "id": "VwoENpyzBzSR"
    },
    {
      "cell_type": "code",
      "source": [
        "import pydotplus\n",
        "from six import StringIO\n",
        "from sklearn import tree\n",
        "\n",
        "column_names = X_df.columns\n",
        "\n",
        "dot_data = StringIO()\n",
        "tree.export_graphviz(dt, out_file=dot_data, feature_names=column_names)\n",
        "graph = pydotplus.pydotplus.graph_from_dot_data(dot_data.getvalue())\n",
        "\n",
        "graph.write_png(\"titanic.png\")\n",
        "from IPython.core.display import Image\n",
        "Image(filename='titanic.png')"
      ],
      "metadata": {
        "id": "M_8MdZVJBdS_"
      },
      "id": "M_8MdZVJBdS_",
      "execution_count": null,
      "outputs": []
    }
  ],
  "metadata": {
    "kernelspec": {
      "display_name": "Python 3 (ipykernel)",
      "language": "python",
      "name": "python3"
    },
    "language_info": {
      "codemirror_mode": {
        "name": "ipython",
        "version": 3
      },
      "file_extension": ".py",
      "mimetype": "text/x-python",
      "name": "python",
      "nbconvert_exporter": "python",
      "pygments_lexer": "ipython3",
      "version": "3.9.7"
    },
    "colab": {
      "provenance": [],
      "include_colab_link": true
    }
  },
  "nbformat": 4,
  "nbformat_minor": 5
}